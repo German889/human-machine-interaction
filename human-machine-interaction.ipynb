{
  "nbformat": 4,
  "nbformat_minor": 0,
  "metadata": {
    "colab": {
      "provenance": [],
      "toc_visible": true,
      "collapsed_sections": [
        "_hzuwTlF4_Fv",
        "BmRTpSn45Fic"
      ],
      "authorship_tag": "ABX9TyPgbEtz/LF9cE+IWuZP0sPh",
      "include_colab_link": true
    },
    "kernelspec": {
      "name": "python3",
      "display_name": "Python 3"
    },
    "language_info": {
      "name": "python"
    }
  },
  "cells": [
    {
      "cell_type": "markdown",
      "metadata": {
        "id": "view-in-github",
        "colab_type": "text"
      },
      "source": [
        "<a href=\"https://colab.research.google.com/github/German889/human-machine-interaction/blob/main/human-machine-interaction.ipynb\" target=\"_parent\"><img src=\"https://colab.research.google.com/assets/colab-badge.svg\" alt=\"Open In Colab\"/></a>"
      ]
    },
    {
      "cell_type": "markdown",
      "source": [
        "# Лаба 1"
      ],
      "metadata": {
        "id": "_hzuwTlF4_Fv"
      }
    },
    {
      "cell_type": "markdown",
      "source": [
        "1.\tВыбрать набор данных, содержащий не менее 10 атрибутов из репозитория https://archive.ics.uci.edu/ml/index.php.\n",
        "2.\tПостроить графики Matplotlib по данным выбранного датасета:\n",
        "•\tHistogram \n",
        "•\tScatter\n",
        "•\tLine\n",
        "•\tBar\n",
        "•\tBox\n",
        "•\tHeatmap\n",
        "•\tPie\n",
        "•\tPolar\n"
      ],
      "metadata": {
        "id": "n4GHM30QDoa3"
      }
    },
    {
      "cell_type": "markdown",
      "source": [
        "import"
      ],
      "metadata": {
        "id": "1-xJNfy-SSW7"
      }
    },
    {
      "cell_type": "code",
      "source": [
        "import matplotlib.pyplot as plt\n",
        "from google.colab import drive\n",
        "drive.mount('/content/drive')\n",
        "# Data\n",
        "data = []\n",
        "with open('/content/drive/My Drive/auto-mpg.data', 'r') as file:\n",
        "    for line in file:\n",
        "      data.append(line)\n",
        "    #s_f = pd.read_csv('https://archive.ics.uci.edu/ml/machine-learning-databases/auto-mpg/auto-mpg.data', index_col=False, header=None, sep='\\t')\n",
        "# Extracting the first column of the data (i.e. the values to be plotted)\n",
        "values = [row[0] for row in data]"
      ],
      "metadata": {
        "colab": {
          "base_uri": "https://localhost:8080/"
        },
        "id": "6IBJFr0tSRGw",
        "outputId": "91939595-eade-4db7-c11c-08087f793c2f"
      },
      "execution_count": 42,
      "outputs": [
        {
          "output_type": "stream",
          "name": "stdout",
          "text": [
            "Drive already mounted at /content/drive; to attempt to forcibly remount, call drive.mount(\"/content/drive\", force_remount=True).\n"
          ]
        }
      ]
    },
    {
      "cell_type": "markdown",
      "source": [
        "**Histogram**"
      ],
      "metadata": {
        "id": "RBwCnyVhR0iI"
      }
    },
    {
      "cell_type": "code",
      "execution_count": 43,
      "metadata": {
        "id": "n25hEVTKDY8g"
      },
      "outputs": [],
      "source": [
        "def hist_mpl():\n",
        "  # Creating histogram\n",
        "  plt.hist(values, bins=5)\n",
        "\n",
        "  # Setting labels and title\n",
        "  plt.xlabel('car information')\n",
        "  plt.ylabel('что-то')\n",
        "  plt.title('какие-то характеристики')\n",
        "\n",
        "  # Displaying the plot\n",
        "  plt.show()"
      ]
    },
    {
      "cell_type": "markdown",
      "source": [
        "**Scatter**"
      ],
      "metadata": {
        "id": "nnPTphLOR3fs"
      }
    },
    {
      "cell_type": "code",
      "source": [
        "def mpl_scatter():\n",
        "  x = []\n",
        "  y = []\n",
        "  for line in data:\n",
        "    x.append(line[3])\n",
        "    y.append(line[0])\n",
        "  colors = ['g' for i in range(len(x))]\n",
        "  plt.scatter(x, y, c=colors)\n",
        "  plt.xlabel('что-то другое')\n",
        "  plt.ylabel('что-то')\n",
        "  plt.title('Scatter график')\n",
        "  plt.legend()\n",
        "  plt.show()"
      ],
      "metadata": {
        "id": "9B_bVj1dR5Gf"
      },
      "execution_count": 44,
      "outputs": []
    },
    {
      "cell_type": "markdown",
      "source": [
        "**Line**"
      ],
      "metadata": {
        "id": "s6GSLqNkjooQ"
      }
    },
    {
      "cell_type": "code",
      "source": [
        "def mpl_line():\n",
        "  x = range(len(data))\n",
        "  y = [row[0] for row in data]\n",
        "\n",
        "  plt.plot(x, y)\n",
        "  plt.xlabel('Index')\n",
        "  plt.ylabel('Value')\n",
        "  plt.title('Line Plot')\n",
        "  plt.show()"
      ],
      "metadata": {
        "id": "dILXBDWMjoAU"
      },
      "execution_count": 45,
      "outputs": []
    },
    {
      "cell_type": "markdown",
      "source": [
        "**Bar**"
      ],
      "metadata": {
        "id": "jHhU5jrUkR7W"
      }
    },
    {
      "cell_type": "code",
      "source": [
        "def mpl_bar():\n",
        "  # Получение данных по оси X\n",
        "  x = [item[4] for item in data]\n",
        "\n",
        "  # Получение данных по оси Y\n",
        "  y = [item[0] for item in data]\n",
        "\n",
        "  # Создание графика\n",
        "  fig, ax = plt.subplots()\n",
        "\n",
        "  # Добавление данных на график\n",
        "  ax.bar(x, y)\n",
        "\n",
        "  # Настройка осей\n",
        "  ax.set_xlabel(\"что?\")\n",
        "  ax.set_ylabel(\"что-то\")\n",
        "  ax.set_title(\"Bar\")\n",
        "\n",
        "  # Отображение графика\n",
        "  plt.show()"
      ],
      "metadata": {
        "id": "0Wt6CtJckV_C"
      },
      "execution_count": 46,
      "outputs": []
    },
    {
      "cell_type": "markdown",
      "source": [
        "**Box**"
      ],
      "metadata": {
        "id": "sVrYU5nIoK09"
      }
    },
    {
      "cell_type": "code",
      "source": [
        "def mpl_box():\n",
        "  # Извлечение первого столбца из данных\n",
        "  x = range(len(data))\n",
        "  y = [row[0] for row in data]\n",
        "\n",
        "  # Построение графика Box\n",
        "  fig, ax = plt.subplots()\n",
        "  ax.boxplot(y)\n",
        "\n",
        "  # Настройка осей и заголовка\n",
        "  ax.set_xlabel('Data')\n",
        "  ax.set_ylabel('Values')\n",
        "  ax.set_title('Box Plot')\n",
        "\n",
        "  plt.show()\n"
      ],
      "metadata": {
        "id": "BHVjCuhzoNiM"
      },
      "execution_count": 47,
      "outputs": []
    },
    {
      "cell_type": "markdown",
      "source": [
        "**Heatmap**\n",
        "не смог построить по данным из датасета, потому как они там иногда Null,\n",
        "вынес кусочек где нет проблем"
      ],
      "metadata": {
        "id": "55uhG0H3qWhW"
      }
    },
    {
      "cell_type": "code",
      "source": [
        "def heat_mpl():\n",
        "  import pandas as pd\n",
        "  import matplotlib.pyplot as plt\n",
        "\n",
        "  # create matrix from data\n",
        "  data = [[18.0, 8., 307.0, 130.0, 3504., 12.0, 70., 1.],\n",
        "          [15.0, 8., 350.0, 165.0, 3693., 11.5, 70., 1.],\n",
        "          [18.0, 8., 318.0, 150.0, 3436., 11.0, 70., 1.],\n",
        "          [16.0, 8., 304.0, 150.0, 3433., 12.0, 70., 1.],\n",
        "          [17.0, 8., 302.0, 140.0, 3449., 10.5, 70., 1.],\n",
        "          [15.0, 8., 429.0, 198.0, 4341., 10.0, 70., 1.],\n",
        "          [14.0, 8., 454.0, 220.0, 4354., 9.0, 70., 1.],\n",
        "          [14.0, 8., 440.0, 215.0, 4312., 8.5, 70., 1.],\n",
        "          [14.0, 8., 455.0, 225.0, 4425., 10.0, 70., 1.],\n",
        "          [15.0, 8., 390.0, 190.0, 3850., 8.5, 70., 1.]]\n",
        "  df = pd.DataFrame(data)\n",
        "\n",
        "  # create heatmap\n",
        "  fig, ax = plt.subplots()\n",
        "  im = ax.imshow(df, cmap='coolwarm')\n",
        "\n",
        "  # set x and y labels\n",
        "  ax.set_xticks(range(len(df.columns)))\n",
        "  ax.set_xticklabels(df.columns)\n",
        "  ax.set_yticks(range(len(df)))\n",
        "  ax.set_yticklabels(range(1, len(df) + 1))\n",
        "\n",
        "  # add value annotations\n",
        "  for i in range(len(df)):\n",
        "      for j in range(len(df.columns)):\n",
        "          text = ax.text(j, i, df.iloc[i, j],\n",
        "                        ha=\"center\", va=\"center\", color=\"w\")\n",
        "\n",
        "  # set colorbar\n",
        "  cbar = ax.figure.colorbar(im, ax=ax)\n",
        "  cbar.ax.set_ylabel(\"value\", rotation=-90, va=\"bottom\")\n",
        "\n",
        "  # set title and show plot\n",
        "  ax.set_title(\"Heatmap\")\n",
        "  plt.show()"
      ],
      "metadata": {
        "id": "NooRj5MAqZXE"
      },
      "execution_count": 48,
      "outputs": []
    },
    {
      "cell_type": "markdown",
      "source": [
        "**Pie**\n",
        "здесь нагляднее когда не 400 автомобилей, а только 10"
      ],
      "metadata": {
        "id": "x4CSe-pksuIR"
      }
    },
    {
      "cell_type": "code",
      "source": [
        "def pie_mpl():\n",
        "  import matplotlib.pyplot as plt\n",
        "\n",
        "  data = [18.0, 15.0, 18.0, 16.0, 17.0, 15.0, 14.0, 14.0, 14.0, 15.0]\n",
        "  labels = [\"Chevrolet Chevelle Malibu\", \"Buick Skylark 320\", \"Plymouth Satellite\", \n",
        "            \"AMC Rebel SST\", \"Ford Torino\", \"Ford Galaxie 500\", \"Chevrolet Impala\",\n",
        "            \"Plymouth Fury III\", \"Pontiac Catalina\", \"AMC Ambassador DPL\"]\n",
        "\n",
        "  fig, ax = plt.subplots()\n",
        "  ax.pie(data, labels=labels, autopct='%1.1f%%', startangle=90)\n",
        "  ax.axis('equal')\n",
        "  ax.set_title('Distribution of Car MPG')\n",
        "\n",
        "  plt.show()"
      ],
      "metadata": {
        "id": "AAnpraIXs0h4"
      },
      "execution_count": 49,
      "outputs": []
    },
    {
      "cell_type": "markdown",
      "source": [
        "**Polar**"
      ],
      "metadata": {
        "id": "3wcdrdVouR9i"
      }
    },
    {
      "cell_type": "code",
      "source": [
        "def polar_mpl():\n",
        "  import matplotlib.pyplot as plt\n",
        "  import numpy as np\n",
        "\n",
        "  # Data\n",
        "  mpg = [18.0, 15.0, 18.0, 16.0, 17.0, 15.0, 14.0, 14.0, 14.0, 15.0]\n",
        "  cylinders = [8, 8, 8, 8, 8, 8, 8, 8, 8, 8]\n",
        "  displacement = [307.0, 350.0, 318.0, 304.0, 302.0, 429.0, 454.0, 440.0, 455.0, 390.0]\n",
        "  horsepower = [130.0, 165.0, 150.0, 150.0, 140.0, 198.0, 220.0, 215.0, 225.0, 190.0]\n",
        "  weight = [3504.0, 3693.0, 3436.0, 3433.0, 3449.0, 4341.0, 4354.0, 4312.0, 4425.0, 3850.0]\n",
        "\n",
        "  # Create polar plot\n",
        "  fig = plt.figure(figsize=(6, 6))\n",
        "  ax = fig.add_subplot(111, projection='polar')\n",
        "\n",
        "  # Convert data to radians\n",
        "  theta = np.linspace(0, 2*np.pi, len(mpg))\n",
        "  mpg_r = np.array(mpg)\n",
        "  cylinders_r = np.array(cylinders)\n",
        "  displacement_r = np.array(displacement)\n",
        "  horsepower_r = np.array(horsepower)\n",
        "  weight_r = np.array(weight)\n",
        "\n",
        "  # Normalize data\n",
        "  mpg_r = (mpg_r - np.min(mpg_r)) / (np.max(mpg_r) - np.min(mpg_r))\n",
        "  cylinders_r = (cylinders_r - np.min(cylinders_r)) / (np.max(cylinders_r) - np.min(cylinders_r))\n",
        "  displacement_r = (displacement_r - np.min(displacement_r)) / (np.max(displacement_r) - np.min(displacement_r))\n",
        "  horsepower_r = (horsepower_r - np.min(horsepower_r)) / (np.max(horsepower_r) - np.min(horsepower_r))\n",
        "  weight_r = (weight_r - np.min(weight_r)) / (np.max(weight_r) - np.min(weight_r))\n",
        "\n",
        "  # Plot the data\n",
        "  ax.plot(theta, mpg_r, label='mpg')\n",
        "  ax.plot(theta, cylinders_r, label='cylinders')\n",
        "  ax.plot(theta, displacement_r, label='displacement')\n",
        "  ax.plot(theta, horsepower_r, label='horsepower')\n",
        "  ax.plot(theta, weight_r, label='weight')\n",
        "\n",
        "  # Add legend and title\n",
        "  ax.legend()\n",
        "  ax.set_title('Polar Plot')\n",
        "\n",
        "  # Show plot\n",
        "  plt.show()"
      ],
      "metadata": {
        "id": "Bk3LSeLYuUKj"
      },
      "execution_count": 50,
      "outputs": []
    },
    {
      "cell_type": "markdown",
      "source": [
        "# Лаба 2"
      ],
      "metadata": {
        "id": "BmRTpSn45Fic"
      }
    },
    {
      "cell_type": "markdown",
      "source": [
        "подключение датасета"
      ],
      "metadata": {
        "id": "nw0H8_Zak4D1"
      }
    },
    {
      "cell_type": "code",
      "source": [
        "# Импортировать необходимые библиотеки\n",
        "import pandas as pd\n",
        "from google.colab import drive\n",
        "\n",
        "# Подключиться к Google Диску\n",
        "drive.mount('/content/drive')\n",
        "\n",
        "# Указать путь к CSV-файлу на Google Диске\n",
        "path = '/content/drive/MyDrive/accelerometer.csv'\n",
        "\n",
        "# Прочитать CSV-файл с помощью библиотеки Pandas\n",
        "df = pd.read_csv(path)\n",
        "\n",
        "columns = list(df.columns)\n",
        "\n",
        "# Вывести список заголовков столбцов\n",
        "print(columns)"
      ],
      "metadata": {
        "colab": {
          "base_uri": "https://localhost:8080/"
        },
        "id": "MntzZNCPk3Rt",
        "outputId": "4803e641-35b1-4d99-ea1a-a00aba46f503"
      },
      "execution_count": 51,
      "outputs": [
        {
          "output_type": "stream",
          "name": "stdout",
          "text": [
            "Drive already mounted at /content/drive; to attempt to forcibly remount, call drive.mount(\"/content/drive\", force_remount=True).\n",
            "['wconfid', 'pctid', 'x', 'y', 'z']\n"
          ]
        }
      ]
    },
    {
      "cell_type": "markdown",
      "source": [
        "Построить графики Seaborn и Plotly по данным выбранного датасета\n",
        "•\tHistogram \n",
        "•\tScatter\n",
        "•\tLine\n",
        "•\tBar\n",
        "•\tBox\n",
        "•\tHeatmap\n",
        "•\tPie\n",
        "•\tPolar\n",
        "•\t3D"
      ],
      "metadata": {
        "id": "LE2JyCk65K99"
      }
    },
    {
      "cell_type": "markdown",
      "source": [
        "**Histogram plotly**"
      ],
      "metadata": {
        "id": "b99nXv_o5oYD"
      }
    },
    {
      "cell_type": "code",
      "source": [
        "def hist_plotly():\n",
        "  import plotly.express as px\n",
        "\n",
        "  fig = px.histogram(df, x=[x for x in columns], nbins=20)\n",
        "  fig.show()"
      ],
      "metadata": {
        "id": "cjnGnXzXxJJV"
      },
      "execution_count": 52,
      "outputs": []
    },
    {
      "cell_type": "markdown",
      "source": [
        "**Histogram seaborn**"
      ],
      "metadata": {
        "id": "FhhavGj1ohW7"
      }
    },
    {
      "cell_type": "code",
      "source": [
        "def hist_sea():\n",
        "  import seaborn as sns\n",
        "  # Настройки стиля графика\n",
        "  sns.set_style('darkgrid')\n",
        "\n",
        "  #число строк датафрейма\n",
        "  num_rows = df.shape[0]\n",
        "  # Создание гистограммы\n",
        "  sns.histplot(data=df, x=[x for x in range(num_rows)], bins=30, kde=True)"
      ],
      "metadata": {
        "id": "HyljUbQ4oleB"
      },
      "execution_count": 53,
      "outputs": []
    },
    {
      "cell_type": "markdown",
      "source": [
        "**Scatter plotly** при запуске грузит комп, запускать последним"
      ],
      "metadata": {
        "id": "6avU4szjp1GO"
      }
    },
    {
      "cell_type": "code",
      "source": [
        "def scatter_plotly():\n",
        "  # Create the scatter plot using Plotly Express\n",
        "  fig = px.scatter(df, x=[x for x in range(num_rows)], y=[x for x in range(num_rows)], color=[x for x in range(num_rows)])\n",
        "\n",
        "  # Show the plot\n",
        "  fig.show()\n"
      ],
      "metadata": {
        "id": "Yklvzj2Ip4Oi"
      },
      "execution_count": 54,
      "outputs": []
    },
    {
      "cell_type": "markdown",
      "source": [
        "**scatter seaborn**"
      ],
      "metadata": {
        "id": "IPFKXqqerFwA"
      }
    },
    {
      "cell_type": "code",
      "source": [
        "def scatter_sea():\n",
        "  import seaborn as sns\n",
        "\n",
        "  # Create the scatter plot using Seaborn\n",
        "  sns.scatterplot(data=df, x=[x for x in range(num_rows)], y=[x for x in range(num_rows)], hue=[x for x in range(num_rows)])"
      ],
      "metadata": {
        "id": "4FE1tDqfrKiG"
      },
      "execution_count": 55,
      "outputs": []
    },
    {
      "cell_type": "markdown",
      "source": [
        "**Line plotly**"
      ],
      "metadata": {
        "id": "Z9AfASgHsv35"
      }
    },
    {
      "cell_type": "code",
      "source": [
        "def line_plotly():\n",
        "  # Create the line plot using Plotly Express\n",
        "  fig = px.line(df, x=[x for x in range(num_rows)], y=[x for x in range(num_rows)])\n",
        "\n",
        "  # Show the plot\n",
        "  fig.show()"
      ],
      "metadata": {
        "id": "NTjo4jIvszzZ"
      },
      "execution_count": 56,
      "outputs": []
    },
    {
      "cell_type": "markdown",
      "source": [
        "**Line seaborn**"
      ],
      "metadata": {
        "id": "lagPJKZ6u-nk"
      }
    },
    {
      "cell_type": "code",
      "source": [
        "def line_sea():\n",
        "  # Create the line plot using Seaborn\n",
        "  sns.lineplot(data=df, x=[x for x in range(num_rows)], y=[x for x in range(num_rows)])"
      ],
      "metadata": {
        "id": "2CPMLP2FvBFn"
      },
      "execution_count": 57,
      "outputs": []
    },
    {
      "cell_type": "markdown",
      "source": [
        "**Bar plotly**"
      ],
      "metadata": {
        "id": "CTlzZ8ITxGSY"
      }
    },
    {
      "cell_type": "code",
      "source": [
        "def bar_plotly():\n",
        "  import plotly.graph_objs as go\n",
        "  bar_color = 'rgb(254, 10, 10)'\n",
        "  # Create the bar plot using Plotly graph objects\n",
        "  fig = go.Figure(go.Bar(x=[x for x in range(num_rows)], y=[x for x in range(num_rows)], marker=dict(color=bar_color)))\n",
        "\n",
        "  # Show the plot\n",
        "  fig.show()"
      ],
      "metadata": {
        "id": "X8A1OnXcxJhq"
      },
      "execution_count": 58,
      "outputs": []
    },
    {
      "cell_type": "markdown",
      "source": [
        "**Bar seaborn**"
      ],
      "metadata": {
        "id": "554V4f3bvdrH"
      }
    },
    {
      "cell_type": "code",
      "source": [
        "def bar_sea():\n",
        "  import seaborn as sns\n",
        "  import matplotlib.pyplot as plt\n",
        "\n",
        "  # Set the desired color\n",
        "  bar_color = 'red'\n",
        "\n",
        "  # Create the bar plot using Seaborn\n",
        "  sns.barplot(x=[x for x in range(num_rows)], y=[x for x in range(num_rows)], color=bar_color)\n",
        "\n",
        "  # Show the plot\n",
        "  plt.show()"
      ],
      "metadata": {
        "id": "0oXgvHHVvg47"
      },
      "execution_count": 59,
      "outputs": []
    },
    {
      "cell_type": "markdown",
      "source": [
        "**Box plotly**"
      ],
      "metadata": {
        "id": "LeKUOP_m3HXL"
      }
    },
    {
      "cell_type": "code",
      "source": [
        "def box_plotly():\n",
        "  import plotly.graph_objs as go\n",
        "\n",
        "  # Set the desired color\n",
        "  box_color = 'rgb(134, 193, 212)'\n",
        "\n",
        "  # Create the box plot using Plotly graph objects\n",
        "  fig = go.Figure(go.Box(x=df[columns[1]], y=df[columns[2]], marker=dict(color=box_color)))\n",
        "\n",
        "  # Show the plot\n",
        "  fig.show()"
      ],
      "metadata": {
        "id": "udJmW9Vn3KWS"
      },
      "execution_count": 60,
      "outputs": []
    },
    {
      "cell_type": "markdown",
      "source": [
        "**Box seaborn**"
      ],
      "metadata": {
        "id": "LvYs1jEz3gWl"
      }
    },
    {
      "cell_type": "code",
      "source": [
        "def box_sea():\n",
        "  import seaborn as sns\n",
        "  import matplotlib.pyplot as plt\n",
        "\n",
        "  # Set the desired color\n",
        "  box_color = 'cornflowerblue'\n",
        "\n",
        "  # Create the box plot using Seaborn\n",
        "  sns.boxplot(x=df[columns[1]], y=df[columns[2]], color=box_color)\n",
        "\n",
        "  # Show the plot\n",
        "  plt.show()"
      ],
      "metadata": {
        "id": "Amky0nOa3i5L"
      },
      "execution_count": 61,
      "outputs": []
    },
    {
      "cell_type": "markdown",
      "source": [
        "**Heatmap plotly**"
      ],
      "metadata": {
        "id": "vHTH3NvA4JDJ"
      }
    },
    {
      "cell_type": "code",
      "source": [
        "def heat_plotly():\n",
        "  import plotly.graph_objs as go\n",
        "\n",
        "  # Create the heatmap using Plotly graph objects\n",
        "  fig = go.Figure(data=go.Heatmap(z=df.values, x=df.columns, y=df.index))\n",
        "\n",
        "  # Show the plot\n",
        "  fig.show()"
      ],
      "metadata": {
        "id": "FbiwKrBQ4MnD"
      },
      "execution_count": 62,
      "outputs": []
    },
    {
      "cell_type": "markdown",
      "source": [
        "**Heatmap seaborn**"
      ],
      "metadata": {
        "id": "9U4j2JTN5P50"
      }
    },
    {
      "cell_type": "code",
      "source": [
        "def heat_sea():\n",
        "  import seaborn as sns\n",
        "  import matplotlib.pyplot as plt\n",
        "\n",
        "  # Create the heatmap using Seaborn\n",
        "  sns.heatmap(df, cmap='coolwarm')\n",
        "\n",
        "  # Show the plot\n",
        "  plt.show()"
      ],
      "metadata": {
        "id": "eOcGkXPQ6sXC"
      },
      "execution_count": 63,
      "outputs": []
    },
    {
      "cell_type": "markdown",
      "source": [
        "**Pie plotly**"
      ],
      "metadata": {
        "id": "d7bpdU_s6u71"
      }
    },
    {
      "cell_type": "code",
      "source": [
        "def pie_plotly():\n",
        "  import plotly.graph_objs as go\n",
        "\n",
        "  # Calculate the count for each category in the dataframe\n",
        "  category_counts = df[columns[2]].value_counts()\n",
        "\n",
        "  # Create the pie chart using Plotly graph objects\n",
        "  fig = go.Figure(data=[go.Pie(labels=category_counts.index.tolist(), values=category_counts.values.tolist())])\n",
        "\n",
        "  # Show the plot\n",
        "  fig.show()"
      ],
      "metadata": {
        "id": "tOKb7WYp6yoD"
      },
      "execution_count": 64,
      "outputs": []
    },
    {
      "cell_type": "markdown",
      "source": [
        "**Pie seaborn**"
      ],
      "metadata": {
        "id": "7bfKEItV7LFT"
      }
    },
    {
      "cell_type": "code",
      "source": [
        "def pie_sea():\n",
        "  import seaborn as sns\n",
        "  import matplotlib.pyplot as plt\n",
        "\n",
        "  # Calculate the count for each category in the dataframe\n",
        "  category_counts = df[columns[2]].value_counts()\n",
        "\n",
        "  # Create the pie chart using Seaborn\n",
        "  plt.pie(category_counts.values.tolist(), labels=category_counts.index.tolist())\n",
        "\n",
        "  # Show the plot\n",
        "  plt.show()\n"
      ],
      "metadata": {
        "id": "pAeqJkqG7NLk"
      },
      "execution_count": 65,
      "outputs": []
    },
    {
      "cell_type": "markdown",
      "source": [
        "**Polar plotly**"
      ],
      "metadata": {
        "id": "rijHiOQV7Y9t"
      }
    },
    {
      "cell_type": "code",
      "source": [
        "def polar_plotly():\n",
        "  import plotly.graph_objs as go\n",
        "\n",
        "  # Create the polar chart using Plotly graph objects\n",
        "  fig = go.Figure(data=go.Scatterpolar(r=df['x'], theta=df['y'], mode='lines'))\n",
        "\n",
        "  # Show the plot\n",
        "  fig.show()"
      ],
      "metadata": {
        "id": "U2yAbuO-7b-X"
      },
      "execution_count": 66,
      "outputs": []
    },
    {
      "cell_type": "markdown",
      "source": [
        "**Polar seaborn**"
      ],
      "metadata": {
        "id": "xgaI4swo8GBA"
      }
    },
    {
      "cell_type": "code",
      "source": [
        "def polar_sea():\n",
        "  import seaborn as sns\n",
        "  import matplotlib.pyplot as plt\n",
        "  # Create a radar chart using Seaborn\n",
        "  sns.lineplot(data=df, x='x', y='y')\n",
        "\n",
        "  # Show the plot\n",
        "  plt.show()"
      ],
      "metadata": {
        "id": "BHdrsd7i-Jfj"
      },
      "execution_count": 67,
      "outputs": []
    },
    {
      "cell_type": "markdown",
      "source": [
        "**3D graphic plotly**"
      ],
      "metadata": {
        "id": "Y_JvCe2I_IsK"
      }
    },
    {
      "cell_type": "code",
      "source": [
        "def plotly_3d():\n",
        "  import plotly.graph_objs as go\n",
        "\n",
        "  # Create the 3D scatter plot using Plotly graph objects\n",
        "  fig = go.Figure(data=[go.Scatter3d(x=df['x'], y=df['y'], z=df['z'], mode='markers')])\n",
        "\n",
        "  # Set the layout of the chart\n",
        "  fig.update_layout(scene=dict(xaxis_title='X', yaxis_title='Y', zaxis_title='Z'))\n",
        "\n",
        "  # Show the plot\n",
        "  fig.show()"
      ],
      "metadata": {
        "id": "SxrhSR2B_NaD"
      },
      "execution_count": 68,
      "outputs": []
    },
    {
      "cell_type": "markdown",
      "source": [
        "#Лаба 3"
      ],
      "metadata": {
        "id": "LCkU6g4L_h8e"
      }
    },
    {
      "cell_type": "markdown",
      "source": [
        "пользовательский интерфейс"
      ],
      "metadata": {
        "id": "df4hAyRHCEQC"
      }
    },
    {
      "cell_type": "code",
      "source": [
        "import ipywidgets as widgets\n",
        "from IPython.display import display\n",
        "# Создаем label\n",
        "label = widgets.Label(value='DataFrame')\n",
        "\n",
        "# Отображаем label\n",
        "display(label)\n",
        "\n",
        "# Создаем Dropdown\n",
        "dropdown = widgets.Dropdown(options=columns, description='Columns')\n",
        "\n",
        "# Отображаем Dropdown\n",
        "display(dropdown)\n",
        "\n",
        "import ipywidgets as widgets\n",
        "from IPython.display import display\n",
        "\n",
        "# Создаем кнопки\n",
        "hist_btn = widgets.Button(description='Гистограмма')\n",
        "scatter_btn = widgets.Button(description='Диаграмма рассеяния')\n",
        "line_btn = widgets.Button(description='Линейный график')\n",
        "bar_btn = widgets.Button(description='Столбчатая диаграмма')\n",
        "box_btn = widgets.Button(description='Ящик с усами')\n",
        "heat_btn = widgets.Button(description='Тепловая карта')\n",
        "pie_btn = widgets.Button(description='Круговая диаграмма')\n",
        "polar_btn = widgets.Button(description='Полярная диаграмма')\n",
        "plotly_3d_btn = widgets.Button(description='3D график')\n",
        "\n",
        "# Создаем обработчики\n",
        "def hist_handler(button):\n",
        "    hist_plotly()\n",
        "\n",
        "def scatter_handler(button):\n",
        "    scatter_plotly()\n",
        "\n",
        "def line_handler(button):\n",
        "    line_plotly()\n",
        "\n",
        "def bar_handler(button):\n",
        "    bar_plotly()\n",
        "\n",
        "def box_handler(button):\n",
        "    box_plotly()\n",
        "\n",
        "def heat_handler(button):\n",
        "    heat_plotly()\n",
        "\n",
        "def pie_handler(button):\n",
        "    pie_plotly()\n",
        "\n",
        "def polar_handler(button):\n",
        "    polar_plotly()\n",
        "\n",
        "def plotly_3d_handler(button):\n",
        "    plotly_3d()\n",
        "\n",
        "# Привязываем обработчики к кнопкам\n",
        "hist_btn.on_click(hist_handler)\n",
        "scatter_btn.on_click(scatter_handler)\n",
        "line_btn.on_click(line_handler)\n",
        "bar_btn.on_click(bar_handler)\n",
        "box_btn.on_click(box_handler)\n",
        "heat_btn.on_click(heat_handler)\n",
        "pie_btn.on_click(pie_handler)\n",
        "polar_btn.on_click(polar_handler)\n",
        "plotly_3d_btn.on_click(plotly_3d_handler)\n",
        "\n",
        "# Отображаем кнопки на странице\n",
        "display(widgets.VBox([widgets.Label('DataFrame'), \n",
        "                      widgets.Dropdown(options=columns),\n",
        "                      hist_btn, scatter_btn, line_btn, bar_btn, \n",
        "                      box_btn, heat_btn, pie_btn, polar_btn, plotly_3d_btn]))\n"
      ],
      "metadata": {
        "id": "kjWor453CHbz"
      },
      "execution_count": null,
      "outputs": []
    }
  ]
}